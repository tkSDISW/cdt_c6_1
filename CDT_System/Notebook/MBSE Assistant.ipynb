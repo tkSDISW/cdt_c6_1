{
 "cells": [
  {
   "cell_type": "markdown",
   "id": "2ef785c9-a1c0-4ad7-a185-02a1569ca072",
   "metadata": {},
   "source": [
    "# Model Based System Engineering Assistant: \n",
    "## Leveraging AI for System Engineering models \n",
    "\n",
    "Welcome to the **MBSE Assistant Notebook**, a powerful tool designed to augment your ability to review, comprehend, and enhance system models with AI-driven support. This notebook integrates a variety of capabilities to assist with:\n",
    "\n",
    "1. **Model Review and Comprehension**:\n",
    "   - Gain deeper insights into the structure and behavior of your system model.\n",
    "   - Use AI to clarify relationships, dependencies, and interactions within the model.\n",
    "\n",
    "2. **Impact Analysis**:\n",
    "   - Explore the potential effects of component failures on the system.\n",
    "   - Simulate scenarios to identify vulnerabilities and design improvements.\n",
    "\n",
    "3. **Simulation Generation**:\n",
    "   - Automatically generate simulations based on the model's architecture and behaviors.\n",
    "   - Use simulations for validation, testing, and demonstration purposes.\n",
    "\n",
    "4. **Failure Analysis**:\n",
    "   - Assess the system's resilience under various failure conditions.\n",
    "   - Extract meaningful insights to strengthen reliability and performance.\n",
    "\n",
    "5. **Content Extraction for Downstream Domains**:\n",
    "   - Convert model data into formats suitable for use in other engineering domains.\n",
    "   - Facilitate seamless collaboration across teams and tools.\n",
    "\n",
    "This notebook serves as a comprehensive platform to bridge the gap between system models and actionable insights, empowering architects to make informed decisions and design robust solutions. Whether you're investigating enhancements, running failure simulations, or preparing data for external domains, this assistant streamlines the process with AI-enhanced guidance.\n",
    "\n",
    "Feel free to explore and adapt the prompts and models to suit your specific use case. Let’s dive in and unlock the potential of your system model!\n"
   ]
  },
  {
   "cell_type": "markdown",
   "id": "b5acc178-1a94-4014-b1f7-13c97a9ba4ec",
   "metadata": {},
   "source": [
    "### Model-Specific Code (Do Not Modify)\n",
    "\n",
    "This section contains code that is specific to the system model. It is updated only when the model is changed and should not require user modifications under normal circumstances.\n",
    "\n",
    "If a new model is introduced, ensure this section is reviewed and updated as needed.\n"
   ]
  },
  {
   "cell_type": "code",
   "execution_count": 1,
   "id": "c7ba8743-5dac-41be-9083-d44aa0199411",
   "metadata": {
    "jupyter": {
     "source_hidden": true
    },
    "scrolled": true
   },
   "outputs": [
    {
     "name": "stdout",
     "output_type": "stream",
     "text": [
      "Warning: File '../CDT_System.traceability' does not exist.\n"
     ]
    }
   ],
   "source": [
    "import capellambse.decl\n",
    "import capellambse.decl\n",
    "resources = {\n",
    "    \"cdt_c6_1\": \"CDT_System/CDT_System\",\n",
    "    \"LORAWAN_Library\": {\"path\" : \"/home/simcenter/studio/LORAWAN_Library/LORAWAN_Library\"}\n",
    "}\n",
    "path_to_model = \"../CDT_System.aird\"\n",
    "model = capellambse.MelodyModel(path_to_model, resources=resources)\n",
    "import capellambse_helper\n",
    "\n",
    "from IPython import display as diag_display\n",
    "import Pub4C\n",
    "# Instantiate the class with the traceability file\n",
    "Traceability_store = Pub4C.Traceability_Store(\"../CDT_System.traceability\")\n"
   ]
  },
  {
   "cell_type": "code",
   "execution_count": null,
   "id": "5f73131d-3ba3-4c6f-8418-378d418156a6",
   "metadata": {
    "jupyter": {
     "source_hidden": true
    }
   },
   "outputs": [],
   "source": []
  },
  {
   "cell_type": "markdown",
   "id": "98e07f65-caa7-4e20-9268-7c5df4783e36",
   "metadata": {},
   "source": [
    "## 🔄 Embedding Generation Process\n",
    "\n",
    "### Overview\n",
    "This section generates embeddings, which streamlines processing and analyzing the model. The embeddings provide a structured representation of the data that powers subsequent tasks and visualizations.\n",
    "\n",
    "### When is this step necessary?\n",
    "- **Initial Run:** If this notebook is being run for the first time, embeddings will need to be generated.\n",
    "- **Model Updates:** If the underlying model has been modified, regenerating embeddings ensures the data remains accurate and up-to-date.\n",
    "\n",
    "### Important Notes\n",
    "- **Duration:** This process may take **a minute or more** to complete, depending on the size and complexity of the model.\n",
    "- **Output:** Upon completion, embeddings will be ready for use in subsequent sections of the notebook.\n",
    "\n",
    "### Instructions\n",
    "1. Ensure the required model is loaded.\n",
    "2. Run the cell below to initiate the embedding generation process.\n",
    "3. Wait for the process to complete before proceeding.\n",
    "\n",
    "> 💡 **Tip:** You can monitor progress in the notebook's output cell. If any errors occur, check that the model is properly configured and accessible.\n",
    "\n",
    "---\n",
    "\n",
    "> ⚠️ **Warning:** Interrupting this step may result in incomplete or invalid embeddings. If interrupted, re-run the cell to restart the process.\n",
    "\n",
    "---\n",
    "\n",
    "Continue to the next cell to generate embeddings. 🚀\n"
   ]
  },
  {
   "cell_type": "code",
   "execution_count": 2,
   "id": "2c54cb77-76e8-4309-90e0-7da1d2a2d9f8",
   "metadata": {
    "jupyter": {
     "source_hidden": true
    }
   },
   "outputs": [
    {
     "name": "stdout",
     "output_type": "stream",
     "text": [
      "OpenAI API Key retrieved successfully.\n",
      "Loading embeddings\n"
     ]
    }
   ],
   "source": [
    "import Open_AI_RAG_manager\n",
    "\n",
    "# Generate embeddings for all objects\n",
    "model_embedding_manager = Open_AI_RAG_manager.EmbeddingManager()\n",
    "\n",
    "embedding_file = \"embeddings.json\" \n",
    "model_embedding_manager.set_files( path_to_model , embedding_file)\n",
    "\n",
    "model_embedding_manager.create_model_embeddings(model)"
   ]
  },
  {
   "cell_type": "markdown",
   "id": "f671a45d-5335-463c-802a-156296f21ad4",
   "metadata": {},
   "source": [
    "## 🎯 Prompt for System Model Element Analysis\n",
    "\n",
    "### Purpose\n",
    "This cell accepts a prompt to identify and isolate the specific object(s) to be analyzed. Providing detailed and accurate information in the prompt will ensure the best performance during the analysis.\n",
    "\n",
    "### What to Include in Your Prompt\n",
    "For optimal results, specify the following details about the object(s):\n",
    "1. **Type of ARCADIA Object:** Clearly state the type of the object (e.g., Logical Component, Physical Component, Functional Exchange).\n",
    "2. **Name of the Object:** Provide the exact name of the object as defined in the model.\n",
    "3. **ARCADIA Phase:** Specify the phase associated with the object (e.g., Operational Analysis, System Analysis, Logical Architecture, Physical Architecture).\n",
    "4. **Related Objects:** Identify any objects connected via exchanges or dependencies.\n",
    "\n",
    "### Example Prompt\n",
    "Locate the Logical Component named Brake Pedal in the Logical phase and has a Driver supplying input.\n",
    "### ✅ Tips for Success\n",
    "- **Use precise terminology:** Ensure your prompt aligns with the model's structure and terminology.\n",
    "- **Include related objects:** Whenever possible, specify related objects to enhance context and improve analysis accuracy.\n",
    "- **Double-check details:** Verify object names and phases to ensure they match the model exactly.\n",
    "'''\n",
    "\n",
    "### 🚀 Next Steps\n",
    "1. Run the cell below.\n",
    "2. Enter your prompt, providing the necessary details as outlined above.\n",
    "3. Wait for the analysis to complete.\n",
    "4. Select the best index or indexes for analysis. (The last selection will drive selection of a prompt.)\n",
    "\n",
    "> 💡 **Tip:** If you're unsure about the model structure, review the documentation or refer to the model's diagrams for additional guidance.\n"
   ]
  },
  {
   "cell_type": "code",
   "execution_count": 3,
   "id": "837e9729-975a-4afb-b73e-9292c03101c4",
   "metadata": {
    "jupyter": {
     "source_hidden": true
    }
   },
   "outputs": [
    {
     "name": "stdout",
     "output_type": "stream",
     "text": [
      "OpenAI API Key retrieved successfully.\n",
      "Loading embeddings\n"
     ]
    },
    {
     "name": "stdin",
     "output_type": "stream",
     "text": [
      "Enter query for objects to be analyzed:  Detect Concussion Functional Chain in Logical Phase\n"
     ]
    },
    {
     "name": "stdout",
     "output_type": "stream",
     "text": [
      "\n",
      "This is a list of ranked Objects Based on Query:\n",
      "Index: 0, Name: Detect Concussion, Similarity: 0.83, Type: FunctionalChain,Phase: Logical Architecture LA, Source: , Target: \n",
      "Index: 1, Name: Detect Concussion, Similarity: 0.81, Type: FunctionalChain,Phase: System Analysis SA, Source: , Target: \n",
      "Index: 2, Name: Detect Concussion, Similarity: 0.77, Type: FunctionalChain,Phase: Physical Architecture PA, Source: , Target: \n",
      "Index: 3, Name: Record the Concussion, Similarity: 0.71, Type: LogicalFunction,Phase: Logical Architecture LA, Source: , Target: \n",
      "Index: 4, Name: Detect Concussion, Similarity: 0.69, Type: CapabilityRealization,Phase: Logical Architecture LA, Source: , Target: \n",
      "Index: 5, Name: Established Concussion Policy, Similarity: 0.69, Type: LogicalFunction,Phase: Logical Architecture LA, Source: , Target: \n",
      "Index: 6, Name: Detect Concussion, Similarity: 0.68, Type: OperationalProcess,Phase: Operational Analysis OA, Source: , Target: \n",
      "Index: 7, Name: Concussion Alert, Similarity: 0.66, Type: FunctionalExchange,Phase: Physical Architecture PA, Source: Record the Concussion, Target: Alert the Training\n",
      "Index: 8, Name: Device alerts possible Concussion, Similarity: 0.65, Type: LogicalFunction,Phase: Logical Architecture LA, Source: , Target: \n",
      "Index: 9, Name: Concussion Policy, Similarity: 0.65, Type: FunctionalExchange,Phase: Physical Architecture PA, Source: Established Concussion Policy, Target: Trainer Recieves Concussion Alert\n"
     ]
    },
    {
     "name": "stdin",
     "output_type": "stream",
     "text": [
      "\n",
      "Enter the indices of the selected objects (comma-separated), or any non-integer input to retry:  0\n"
     ]
    }
   ],
   "source": [
    "import Open_AI_RAG_manager\n",
    "\n",
    "# Generate embeddings for all objects\n",
    "model_embedding_manager = Open_AI_RAG_manager.EmbeddingManager()\n",
    "\n",
    "embedding_file = \"embeddings.json\" \n",
    "model_embedding_manager.set_files( path_to_model , embedding_file)\n",
    "\n",
    "model_embedding_manager.create_model_embeddings(model)\n",
    "\n",
    "selected_objects  = Open_AI_RAG_manager.interactive_query_and_selection(model_embedding_manager)"
   ]
  },
  {
   "cell_type": "markdown",
   "id": "83af650f-2ace-4f9e-af79-a566d2e359f3",
   "metadata": {},
   "source": [
    "## 📝 Generate Structured Input File \n",
    "\n",
    "### Purpose\n",
    "This cell generates a structured structured input file, `capella_model.yaml`, which serves as input for prompts tailored to the object type of the last selected item. This ensures that the prompt aligns with the model's structure and provides accurate context for analysis.\n",
    "\n",
    "### What This Cell Does\n",
    "- Extracts data related to the elements selected.\n",
    "- Structures the data into a YAML format.\n",
    "- Saves the YAML file as `capella_model.yaml` for further use.\n",
    "\n",
    "### Key Features\n",
    "- The YAML file includes:\n",
    "  - **Object Type:** The type of the element.\n",
    "  - **Object Details:** Attributes, relationships, and associated exchanges.\n",
    "  - **Structured Input:** Designed to enhance prompt accuracy and model analysis.\n",
    "\n",
    "### Instructions\n",
    "1. Run this cell to create the `capella_model.yaml` file.\n",
    "2. Ensure the last selected item is correctly identified to avoid mismatched data.\n",
    "3. Use the generated YAML file as structured input for tailored prompts in subsequent steps.\n",
    "\n",
    "### Notes\n",
    "- The file will be saved in the current working directory.\n",
    "- If the selected object changes, re-run this cell to update the YAML file.\n",
    "\n",
    "> 💡 **Tip:** Review the contents of `capella_model.yaml` if needed to ensure accuracy and completeness.\n"
   ]
  },
  {
   "cell_type": "code",
   "execution_count": 4,
   "id": "4db8d5ea-0e49-4098-aedc-0914d956f286",
   "metadata": {
    "jupyter": {
     "source_hidden": true
    }
   },
   "outputs": [],
   "source": [
    "#Workflow\n",
    "import capellambse_yaml_manager\n",
    "yaml_handler = capellambse_yaml_manager.CapellaYAMLHandler()\n",
    "\n",
    "   \n",
    "#Generate YAML for the logical component and append to the file\n",
    "for object in  selected_objects :  \n",
    "    yaml_handler.generate_yaml( model.search(object[\"type\"]).by_uuid(object[\"uuid\"]))\n",
    "\n",
    "yaml_handler.generate_traceability_related_objects(model,Traceability_store)\n",
    "\n",
    "#yaml_handler.display()\n",
    "yaml_handler.generate_yaml_referenced_objects()\n",
    "#yaml_handler.display()\n",
    "\n",
    "yaml_handler.write_output_file()\n"
   ]
  },
  {
   "cell_type": "markdown",
   "id": "1113cb97-36e1-46b4-aec7-9713aea09a64",
   "metadata": {},
   "source": [
    "## 🖼️ Generate Contextual Diagram\n",
    "\n",
    "### Purpose\n",
    "This cell generates a **contextual diagram** for the selected object. The diagram visually represents the object's relationships and interactions, providing a clear and comprehensive view of its context within the model.\n",
    "\n",
    "### Supported Object Types\n",
    "This functionality works the following ARCADIA elements, including:\n",
    "- **Functions**\n",
    "- **Activities**\n",
    "- **Components**\n",
    "- **Entities**\n",
    "- **Exchanges and Interactions**\n",
    "- **Physical Links**\n",
    "\n",
    "### What This Cell Does\n",
    "- Identifies the selected object.\n",
    "- Extracts relevant relationships, exchanges, and dependencies.\n",
    "- Creates a contextual diagram based on the object's type and its connections.\n",
    "\n",
    "### Instructions\n",
    "1. Ensure the object is correctly selected in the previous step.\n",
    "2. Run this cell to generate the contextual diagram.\n",
    "3. Review the output to verify accuracy and completeness.\n",
    "\n",
    "### Key Benefits\n",
    "- **Clarity:** Visualizes how the selected object interacts with other model elements.\n",
    "- **Versatility:** Works seamlessly across ARCADIA functions, activities, components, and entities.\n",
    "- **Actionable Insight:** Helps identify key dependencies and relationships for analysis.\n",
    "\n",
    "### Notes\n",
    "- The diagram will be displayed below upon completion.\n",
    "- If the selected object changes, re-run this cell to update the contextual\n"
   ]
  },
  {
   "cell_type": "code",
   "execution_count": 5,
   "id": "6679d117-2c29-4dc1-9eac-b14e602b1cee",
   "metadata": {
    "jupyter": {
     "source_hidden": true
    }
   },
   "outputs": [
    {
     "data": {
      "text/markdown": [
       "The object:Detect Concussion cannot be displayed in a Context Diagram."
      ],
      "text/plain": [
       "<IPython.core.display.Markdown object>"
      ]
     },
     "metadata": {},
     "output_type": "display_data"
    }
   ],
   "source": [
    "for object in  selected_objects : \n",
    "    obj = model.search(object[\"type\"]).by_uuid(object[\"uuid\"])\n",
    "    capellambse_helper.display_context_diagram(obj)"
   ]
  },
  {
   "cell_type": "markdown",
   "id": "a1ed6cc0-6c32-4f80-8a39-1dccfaca5eb5",
   "metadata": {},
   "source": [
    "## 💬 Predefined Prompts for Analysis\n",
    "\n",
    "### Purpose\n",
    "This cell contains predefined prompts for analyzing different types of ARCADIA elements, including components, functions, operational processes, and a default prompt. You can use these as-is or tailor them to suit your specific needs.\n",
    "\n",
    "\n",
    "### Instructions\n",
    "1. The appropriate prompt will be used for your analysis needs.\n",
    "2. Modify the prompt to include additional details or requirements, if necessary.\n",
    "\n",
    "### Notes\n",
    "- Predefined prompts are designed to guide analysis and ensure consistency.\n",
    "- Tailoring the prompts allows you to focus on specific aspects of the model relevant to your use case.\n",
    "\n",
    "> 💡 **Tip:** Save your tailored prompts for reuse in similar analyses or workflows.\n"
   ]
  },
  {
   "cell_type": "code",
   "execution_count": 6,
   "id": "24590371-907b-4e64-898f-99c5e9499460",
   "metadata": {},
   "outputs": [],
   "source": [
    "component_prompt = \"\"\"\n",
    "Please analyze the yaml file and display the result as .html and specifically provide insights on:\n",
    "1. The purpose of the component.\n",
    "2. Any components that make it up.\n",
    "3. A list of allocated functions and their potential roles.\n",
    "4. How the ports relate to the functions.\n",
    "5. Any traceabilty artifacts linked to the component and the artifacts url.\n",
    "6. Suggestions for improving the component description.\n",
    "7. Create a tabular table with columns for the component and its ports and the port interfaces, the interface souce and the interface target.\n",
    "8. List any property values and the related model element.\n",
    "9. A summary of any related state machines.\n",
    "\"\"\"\n",
    "function_prompt = \"\"\"\n",
    "Please analyze the yaml file and display the result as .html specifically provide insights on:\n",
    "1. The purpose of the function.\n",
    "2. Its owning component.\n",
    "4. Any ports relate to the functions.\n",
    "5. Any traceabilty artifacts linked to the component and the artifacts url.\n",
    "6. Suggestions for improving the function description.\n",
    "7. Create a tabular table with columns for the owning component, this function, its ports and the functional exchanges.\n",
    "\"\"\"\n",
    "activity_prompt = \"\"\"\n",
    "Please analyze the yaml file and display the result as .html specifically provide insights on:\n",
    "1. The purpose of the activity.\n",
    "2. Its actor or entiry.\n",
    "4. Any traceabilty artifacts linked to the component and the artifacts url.\n",
    "7. Suggestions for improving the activity description.\n",
    "7. Create a tabular table with columns for the owning entity or actor, this activity, its exchanges.\n",
    "\"\"\"\n",
    "functional_chain_prompt = \"\"\"\n",
    "Please analyze the YAML file and display the result as .html specifically provide insights on:\n",
    "1. The purpose of the functional chain.\n",
    "2. A table with first column being the owning component, the second being a function, last column being involved functional exchange, organized by involved functional exchanges.\n",
    "3. Any traceabilty artifacts linked to functional chain, functions, owning component and the traceability artifacts url.\n",
    "4. List any property values and the related model element.\n",
    "Please format the analysis in .html suitable for Juypter Notbook display operation.\n",
    "\"\"\"\n",
    "operational_process_prompt = \"\"\"\n",
    "Please analyze the YAML file and display the result as .html specifically provide insights on:\n",
    "1. The purpose of the operation process.\n",
    "2. A table with first column being the owning component, the second being a activities, last column being involved activity exchange, organized by involved activity exchanges.\n",
    "3. Any traceabilty artifacts linked to the operational process chain, activities, owning component and the traceability artifacts url.\n",
    "4. List any property values and the related model element.\n",
    "Please format the analysis in .html suitable for Juypter Notbook display operation.\n",
    "\"\"\"\n",
    "default_prompt = \"\"\"\n",
    "Please analyze the YAML file and display the result as .html specifically provide insights on:\n",
    "1. The purpose of the primary component listed first in the yaml file.=.\n",
    "2. List any property values and the related model element.\n",
    "Please format the analysis in .html suitable for Juypter Notbook display operation.\n",
    "\"\"\"\n",
    "\n"
   ]
  },
  {
   "cell_type": "markdown",
   "id": "4a3e82f3-a07b-404e-a230-7ebcf690e3e4",
   "metadata": {},
   "source": [
    "## ⚙️ Execute Default Prompts\n",
    "\n",
    "### Purpose\n",
    "This cell executes the **default prompts** defined for analyzing the model. These prompts are designed to provide general insights and overviews when specific object types or contexts are not explicitly defined.\n",
    "\n",
    "### What This Cell Does\n",
    "- Reads the structured input file (e.g., `capella_model.yaml`).\n",
    "- Uses the default prompts to query key details about the selected object(s).\n",
    "- Outputs the results directly in the notebook.\n",
    "\n",
    "### 🛠️ Instructions\n",
    "1. Ensure the `capella_model.yaml` file is generated and up-to-date.\n",
    "2. Run this cell to execute the default prompts.\n",
    "3. Review the output to verify the accuracy and relevance of the analysis.\n",
    "\n",
    "### 📝 Notes\n",
    "- The default prompts are **general-purpose** and may not capture all details specific to certain object types.\n",
    "- For more tailored analysis, consider using prompts designed for specific ARCADIA elements.\n",
    "\n",
    "> 💡 **Tip:** Use the default prompts as a starting point, then refine or modify them based on your analysis needs.\n"
   ]
  },
  {
   "cell_type": "code",
   "execution_count": 7,
   "id": "8cf53953-bfae-4677-9f45-906e72aa93e1",
   "metadata": {
    "jupyter": {
     "source_hidden": true
    }
   },
   "outputs": [
    {
     "data": {
      "text/markdown": [
       "# The architecture is analyzed by ChatGPT with following prompt.\n",
       " \n",
       "Please analyze the YAML file and display the result as .html specifically provide insights on:\n",
       "1. The purpose of the functional chain.\n",
       "2. A table with first column being the owning component, the second being a function, last column being involved functional exchange, organized by involved functional exchanges.\n",
       "3. Any traceabilty artifacts linked to functional chain, functions, owning component and the traceability artifacts url.\n",
       "4. List any property values and the related model element.\n",
       "Please format the analysis in .html suitable for Juypter Notbook display operation.\n",
       "\n"
      ],
      "text/plain": [
       "<IPython.core.display.Markdown object>"
      ]
     },
     "metadata": {},
     "output_type": "display_data"
    },
    {
     "name": "stdout",
     "output_type": "stream",
     "text": [
      "OpenAI API Key retrieved successfully.\n"
     ]
    },
    {
     "data": {
      "text/markdown": [
       "\n",
       "\n",
       "**ChatGPT Analysis:**\n"
      ],
      "text/plain": [
       "<IPython.core.display.Markdown object>"
      ]
     },
     "metadata": {},
     "output_type": "display_data"
    },
    {
     "data": {
      "text/html": [
       "```html\n",
       "<!DOCTYPE html>\n",
       "\n",
       "<html lang=\"en\">\n",
       "<head>\n",
       "<meta charset=\"utf-8\"/>\n",
       "<title>YAML Analysis</title>\n",
       "\n",
       "</head>\n",
       "<body>\n",
       "<h2>1. Purpose of the Functional Chain</h2>\n",
       "<p>The functional chain \"Detect Concussion\" aims to monitor an athlete's activities and impacts received during activities, utilizing a helmet-mounted sensing device. It ensures that any potential concussions are detected and communicated effectively to responsible parties for further evaluation and action.</p>\n",
       "<h2>2. Table of Components, Functions, and Involved Functional Exchanges</h2>\n",
       "<table>\n",
       "<thead>\n",
       "<tr>\n",
       "<th>Owning Component</th>\n",
       "<th>Function</th>\n",
       "<th>Involved Functional Exchange</th>\n",
       "</tr>\n",
       "</thead>\n",
       "<tbody>\n",
       "<!-- Repeat this block for every exchange and its details -->\n",
       "<tr>\n",
       "<td>Athlete</td>\n",
       "<td>Athlete Participates in Activity</td>\n",
       "<td>Activity</td>\n",
       "</tr>\n",
       "<tr>\n",
       "<td>Helmet Receives a Hit</td>\n",
       "<td>Helmet Receives a Hit</td>\n",
       "<td>Hit</td>\n",
       "</tr>\n",
       "<tr>\n",
       "<td>Sensing Device</td>\n",
       "<td>Device records Hit</td>\n",
       "<td>Concussion</td>\n",
       "</tr>\n",
       "<tr>\n",
       "<td>Sensing Device</td>\n",
       "<td>Device records Hit</td>\n",
       "<td>Stored Data</td>\n",
       "</tr>\n",
       "<tr>\n",
       "<td>CDT App</td>\n",
       "<td>Alert the Training</td>\n",
       "<td>Concussion Alert to Trainer</td>\n",
       "</tr>\n",
       "<tr>\n",
       "<td>Sensing Device</td>\n",
       "<td>Send message</td>\n",
       "<td>Concussion Message</td>\n",
       "</tr>\n",
       "<tr>\n",
       "<td>Lorawan</td>\n",
       "<td>Relay message</td>\n",
       "<td>Concussion Message</td>\n",
       "</tr>\n",
       "<tr>\n",
       "<td>Secure Application</td>\n",
       "<td>Record the Concussion</td>\n",
       "<td>Concussion Alert</td>\n",
       "</tr>\n",
       "<tr>\n",
       "<td>CDT App</td>\n",
       "<td>Intitate Data Retrieval</td>\n",
       "<td>Player ID</td>\n",
       "</tr>\n",
       "<!-- Add additional rows for each function and exchange -->\n",
       "</tbody>\n",
       "</table>\n",
       "<h2>3. Traceability Artifacts</h2>\n",
       "<ul>\n",
       "<li><strong>Functional Chain:</strong> Detect Concussion\n",
       "            <ul>\n",
       "<li>Traceability URL: <a href=\"#\" target=\"_blank\">Link not provided</a></li>\n",
       "</ul>\n",
       "</li>\n",
       "<li><strong>Functions:</strong>\n",
       "<ul>\n",
       "<li>Athlete Participates in Activity\n",
       "                    <ul>\n",
       "<li>Traceability URL: <a href=\"#\" target=\"_blank\">Link not provided</a></li>\n",
       "</ul>\n",
       "</li>\n",
       "<li>Helmet Receives a Hit\n",
       "                    <ul>\n",
       "<li>Traceability URL: <a href=\"#\" target=\"_blank\">Link not provided</a></li>\n",
       "</ul>\n",
       "</li>\n",
       "<li>Device records Hit\n",
       "                    <ul>\n",
       "<li>Traceability URL: <a href=\"#\" target=\"_blank\">Link not provided</a></li>\n",
       "</ul>\n",
       "</li>\n",
       "<!-- Add additional functions -->\n",
       "</ul>\n",
       "</li>\n",
       "<li><strong>Owning Components:</strong>\n",
       "<ul>\n",
       "<li>Athlete\n",
       "                    <ul>\n",
       "<li>Traceability URL: <a href=\"#\" target=\"_blank\">Link not provided</a></li>\n",
       "</ul>\n",
       "</li>\n",
       "<li>Helmet Receives a Hit\n",
       "                    <ul>\n",
       "<li>Traceability URL: <a href=\"#\" target=\"_blank\">Link not provided</a></li>\n",
       "</ul>\n",
       "</li>\n",
       "<li>Sensing Device\n",
       "                    <ul>\n",
       "<li>Traceability URL: <a href=\"#\" target=\"_blank\">Link not provided</a></li>\n",
       "</ul>\n",
       "</li>\n",
       "<!-- Add additional components -->\n",
       "</ul>\n",
       "</li>\n",
       "</ul>\n",
       "<h2>4. Property Values and Related Model Elements</h2>\n",
       "<ul>\n",
       "<!-- List of property values with respective model elements -->\n",
       "<li><strong>Primary UUID:</strong>\n",
       "<ul>\n",
       "<li>Athlete Participates in Activity: e2b22929-583b-40fd-83c2-a9d1a64227a1</li>\n",
       "<li>Helmet Receives a Hit: bde556fe-d6d7-493d-9ed0-ed1c354b1aa7</li>\n",
       "<li>Device records Hit: f7d6ba3d-d80d-4add-8b86-a0c954f57fc8</li>\n",
       "<!-- Add additional properties -->\n",
       "</ul>\n",
       "</li>\n",
       "</ul>\n",
       "</body>\n",
       "</html>\n",
       "```"
      ],
      "text/plain": [
       "<IPython.core.display.HTML object>"
      ]
     },
     "metadata": {},
     "output_type": "display_data"
    }
   ],
   "source": [
    "import os\n",
    "from openai import OpenAI\n",
    "from IPython.core.display import HTML\n",
    "from IPython.display import display, clear_output, Markdown\n",
    "\n",
    "if object[\"type\"] ==  \"LogicalComponent\" or object[\"type\"] ==  \"SystemComponent\" or object[\"type\"] ==  \"PhysicalComponent\"  :\n",
    "    prompt = component_prompt\n",
    "elif object[\"type\"] ==  \"FunctionalChain\" :  \n",
    "    prompt = functional_chain_prompt\n",
    "elif object[\"type\"] ==  \"OperationalProcess\":  \n",
    "    prompt = functional_chain_prompt\n",
    "elif object[\"type\"] ==  \"SystemFuntion\" or object[\"type\"] ==  \"LogicalFunction\" or object[\"type\"] ==  \"PhysicalFunction\":\n",
    "    prompt = function_prompt\n",
    "elif object[\"type\"] ==  \"OperationalActivity\" : \n",
    "    prompt = activity_prompt\n",
    "else :\n",
    "    prompt = default_prompt    \n",
    "# Display Prompt\n",
    "display(Markdown(f\"# The architecture is analyzed by ChatGPT with following prompt.\\n {prompt}\\n\"))\n",
    "\n",
    "# Step 1: Get YAML content\n",
    "yaml_content = yaml_handler.get_yaml_content()\n",
    "\n",
    "# Step 2: Invoke ChatGPT for analysis\n",
    "analyzer = Open_AI_RAG_manager.ChatGPTAnalyzer(yaml_content)\n",
    "analyzer.initial_prompt(prompt)\n",
    "chatgpt_response = analyzer.get_response()\n",
    "\n",
    "# Step 3: Display the response in the notebook\n",
    "#print(\"ChatGPT Analysis:\\n\")\n",
    "display(Markdown(f\"\\n\\n**ChatGPT Analysis:**\\n\"))\n",
    "#print(chatgpt_response)\n",
    "display(HTML(chatgpt_response))"
   ]
  },
  {
   "cell_type": "markdown",
   "id": "0ab07e0f-6cdb-4b16-9c5b-0acd3e7944cd",
   "metadata": {},
   "source": [
    "## ⚙️ Execute Followup Prompts\n",
    "\n",
    "### Purpose\n",
    "This cell executes the **follow up prompts** defined for analyzing the model. These prompts can be added by the note book user in addition to the default prompts\n",
    "\n",
    "### What This Cell Does\n",
    "- Use the structured input file (e.g., `capella_model.yaml`).\n",
    "- Excutes the prompt defined in the cell.\n",
    "- Outputs the results directly in the notebook.\n",
    "\n",
    "### 🛠️ Instructions\n",
    "1. Ensure the `capella_model.yaml` file is generated and up-to-date.\n",
    "2. Run this cell to execute the default prompts.\n",
    "3. Review the output to verify the accuracy and relevance of the analysis.\n",
    "\n",
    "> 💡 **Tip:** Modify the promt to your needs."
   ]
  },
  {
   "cell_type": "code",
   "execution_count": 8,
   "id": "fab94bcf-5ea3-4d7d-89e8-508dcd603d71",
   "metadata": {
    "jupyter": {
     "source_hidden": true
    }
   },
   "outputs": [
    {
     "data": {
      "text/markdown": [
       "\n",
       "\n",
       "**ChatGPT Analysis:**\n"
      ],
      "text/plain": [
       "<IPython.core.display.Markdown object>"
      ]
     },
     "metadata": {},
     "output_type": "display_data"
    },
    {
     "data": {
      "text/html": [
       "Certainly! Below is the HTML listing the functions associated with each component from the provided YAML structure.\n",
       "\n",
       "```html\n",
       "<!DOCTYPE html>\n",
       "\n",
       "<html lang=\"en\">\n",
       "<head>\n",
       "<meta charset=\"utf-8\"/>\n",
       "<title>Component Functions</title>\n",
       "\n",
       "</head>\n",
       "<body>\n",
       "<h2>Functions of Components</h2>\n",
       "<table>\n",
       "<thead>\n",
       "<tr>\n",
       "<th>Component</th>\n",
       "<th>Function</th>\n",
       "</tr>\n",
       "</thead>\n",
       "<tbody>\n",
       "<!-- Athlete Component Functions -->\n",
       "<tr>\n",
       "<td rowspan=\"7\">Athlete</td>\n",
       "<td>Provide Data for Profile</td>\n",
       "</tr>\n",
       "<tr>\n",
       "<td>Receive ID</td>\n",
       "</tr>\n",
       "<tr>\n",
       "<td>Insert ID into Sensing Device</td>\n",
       "</tr>\n",
       "<tr>\n",
       "<td>Place on Helmet</td>\n",
       "</tr>\n",
       "<tr>\n",
       "<td>Athlete Participates in Activity</td>\n",
       "</tr>\n",
       "<tr>\n",
       "<td>Yield to Evaluation</td>\n",
       "</tr>\n",
       "<tr>\n",
       "<td>Report Received</td>\n",
       "</tr>\n",
       "<!-- Helmet Receives a Hit Component Functions -->\n",
       "<tr>\n",
       "<td rowspan=\"3\">Helmet Receives a Hit</td>\n",
       "<td>Provide access to sensing device mounting</td>\n",
       "</tr>\n",
       "<tr>\n",
       "<td>Receive Athlete</td>\n",
       "</tr>\n",
       "<tr>\n",
       "<td>Helmet Receives a Hit</td>\n",
       "</tr>\n",
       "<!-- Sensing Device Component Functions -->\n",
       "<tr>\n",
       "<td rowspan=\"8\">Sensing Device</td>\n",
       "<td>Provide access to helmet mounting</td>\n",
       "</tr>\n",
       "<tr>\n",
       "<td>Enable Secure Collection</td>\n",
       "</tr>\n",
       "<tr>\n",
       "<td>Receive ID</td>\n",
       "</tr>\n",
       "<tr>\n",
       "<td>Device records Hit</td>\n",
       "</tr>\n",
       "<tr>\n",
       "<td>Send message</td>\n",
       "</tr>\n",
       "<tr>\n",
       "<td>Provide Hit Data</td>\n",
       "</tr>\n",
       "<tr>\n",
       "<td>Enable Monitoring</td>\n",
       "</tr>\n",
       "<tr>\n",
       "<td>Look for Bluetooth connect</td>\n",
       "</tr>\n",
       "<!-- Trainer Component Functions -->\n",
       "<tr>\n",
       "<td rowspan=\"9\">Trainer</td>\n",
       "<td>Create profiles for Athletes</td>\n",
       "</tr>\n",
       "<tr>\n",
       "<td>Create Unique IDs</td>\n",
       "</tr>\n",
       "<tr>\n",
       "<td>Provide ID to Athlete</td>\n",
       "</tr>\n",
       "<tr>\n",
       "<td>Assemble System Components</td>\n",
       "</tr>\n",
       "<tr>\n",
       "<td>Prep the device for use</td>\n",
       "</tr>\n",
       "<tr>\n",
       "<td>Receive Enabled Signal from Athlete Helmet</td>\n",
       "</tr>\n",
       "<tr>\n",
       "<td>Trainer Receives Concussion Alert</td>\n",
       "</tr>\n",
       "<tr>\n",
       "<td>Data can be reviewed</td>\n",
       "</tr>\n",
       "<tr>\n",
       "<td>Executes Policies</td>\n",
       "</tr>\n",
       "<!-- CDT App Component Functions -->\n",
       "<tr>\n",
       "<td rowspan=\"7\">CDT App</td>\n",
       "<td>Alert the Training</td>\n",
       "</tr>\n",
       "<tr>\n",
       "<td>Initiate Data Retrieval</td>\n",
       "</tr>\n",
       "<tr>\n",
       "<td>Data is Presented</td>\n",
       "</tr>\n",
       "<tr>\n",
       "<td>Request Report to be sent</td>\n",
       "</tr>\n",
       "<tr>\n",
       "<td>Enable Indicated</td>\n",
       "</tr>\n",
       "<tr>\n",
       "<td>Gather Profile Data</td>\n",
       "</tr>\n",
       "<tr>\n",
       "<td>Initiate ID Creation</td>\n",
       "</tr>\n",
       "<!-- Lorawan Component Functions -->\n",
       "<tr>\n",
       "<td rowspan=\"2\">Lorawan</td>\n",
       "<td>Relay message</td>\n",
       "</tr>\n",
       "<tr>\n",
       "<td>Relay Enabled Message</td>\n",
       "</tr>\n",
       "<!-- Secure Application Component Functions -->\n",
       "<tr>\n",
       "<td rowspan=\"6\">Secure Application</td>\n",
       "<td>Record the Concussion</td>\n",
       "</tr>\n",
       "<tr>\n",
       "<td>Data Stored</td>\n",
       "</tr>\n",
       "<tr>\n",
       "<td>Generate Reports</td>\n",
       "</tr>\n",
       "<tr>\n",
       "<td>Enable Recorded</td>\n",
       "</tr>\n",
       "<tr>\n",
       "<td>Store Profile</td>\n",
       "</tr>\n",
       "<tr>\n",
       "<td>Create ID</td>\n",
       "</tr>\n",
       "</tbody>\n",
       "</table>\n",
       "</body>\n",
       "</html>\n",
       "```\n",
       "This HTML organizes the component functions in a table format suitable for viewing in a browser or a Jupyter Notebook."
      ],
      "text/plain": [
       "<IPython.core.display.HTML object>"
      ]
     },
     "metadata": {},
     "output_type": "display_data"
    }
   ],
   "source": [
    "analyzer.follow_up_prompt(\"List the functions of the componen\")\n",
    "chatgpt_response = analyzer.get_response()\n",
    "\n",
    "# Step 3: Display the response in the notebook\n",
    "#print(\"ChatGPT Analysis:\\n\")\n",
    "display(Markdown(f\"\\n\\n**ChatGPT Analysis:**\\n\"))\n",
    "#print(chatgpt_response)\n",
    "display(HTML(chatgpt_response))"
   ]
  },
  {
   "cell_type": "markdown",
   "id": "614ada9b-367c-4929-badf-e27c7170b825",
   "metadata": {},
   "source": [
    "## 💬 Launch Interactive Chat on Structured Input\n",
    "\n",
    "### Purpose\n",
    "This cell launches an interactive chat session based on the structured input file, leveraging ARCADIA and Polarion terminology to ensure the analysis remains consistent with the modeling context.\n",
    "\n",
    "### Key Features\n",
    "- Uses the generated structured input file (e.g., `capella_model.yaml`) to guide the conversation.\n",
    "- Supports ARCADIA terms such as **functions**, **components**, **activities**, and **exchanges**.\n",
    "- Incorporates Polarion terms like **workitem**, **requirement**, and **traceability** for seamless integration with requirements management workflows.\n",
    "\n",
    "### How It Works\n",
    "1. The structured input file provides context for the chat session.\n",
    "2. You can interactively query details about the model elements, relationships, and dependencies.\n",
    "3. Responses are tailored using ARCADIA and Polarion terminology.\n",
    "\n",
    "### Example Prompts\n",
    "- **For ARCADIA:**\n",
    "  ```plaintext\n",
    "  What are the dependencies and exchanges for the selected function in the Logical Architecture phase?\n",
    "\n",
    "- **For Polarion:**\n",
    "  ```plaintext\n",
    "  Provide the traceability matrix for the workitem linked to this component.\n",
    "  ```\n",
    "### 🛠️ Instructions\n",
    "1. Ensure the `capella_model.yaml` file has been generated and is up-to-date.\n",
    "2. Run this cell to start the interactive chat session.\n",
    "3. Enter your queries using **ARCADIA** or **Polarion** terms for accurate and relevant responses.\n",
    "\n",
    "### 📝 Notes\n",
    "- The interactive chat dynamically adapts to the content in the structured input file.\n",
    "- Use precise and contextual queries to ensure the best results and insights.\n",
    "\n",
    "> 💡 **Tip:** If you're unfamiliar with ARCADIA or Polarion terminology, consult the respective documentation or glossary for guidance.\n",
    "\n"
   ]
  },
  {
   "cell_type": "code",
   "execution_count": null,
   "id": "ac1d370a-fcf4-4084-9064-f5e11a03a641",
   "metadata": {
    "jupyter": {
     "source_hidden": true
    }
   },
   "outputs": [
    {
     "name": "stdout",
     "output_type": "stream",
     "text": [
      "Starting interactive chat...\n"
     ]
    },
    {
     "name": "stdin",
     "output_type": "stream",
     "text": [
      "Enter your prompt (or type 'exit' to quit):  Please generate set of requirement for the functional chain.\n"
     ]
    },
    {
     "data": {
      "text/markdown": [
       "**Your Prompt:**\n",
       "\n",
       "Please generate set of requirement for the functional chain.\n"
      ],
      "text/plain": [
       "<IPython.core.display.Markdown object>"
      ]
     },
     "metadata": {},
     "output_type": "display_data"
    },
    {
     "data": {
      "text/html": [
       "Generating a set of requirements for the \"Detect Concussion\" functional chain involves outlining specifications that ensure the system effectively monitors and addresses potential concussions in athletes. Here's an HTML representation of potential requirements:\n",
       "\n",
       "```html\n",
       "<!DOCTYPE html>\n",
       "\n",
       "<html lang=\"en\">\n",
       "<head>\n",
       "<meta charset=\"utf-8\"/>\n",
       "<title>Functional Chain Requirements</title>\n",
       "\n",
       "</head>\n",
       "<body>\n",
       "<h2>Requirements for \"Detect Concussion\" Functional Chain</h2>\n",
       "<ul>\n",
       "<li><strong>Requirement 1:</strong> The system must detect and respond to impacts on the helmet in real-time.</li>\n",
       "<li><strong>Requirement 2:</strong> The helmet-mounted sensing device must be capable of differentiating between ordinary impacts and those likely to cause a concussion.</li>\n",
       "<li><strong>Requirement 3:</strong> The system must record all significant impacts, storing relevant data such as impact force, location, and time.</li>\n",
       "<li><strong>Requirement 4:</strong> Upon detecting a potential concussion, the system must immediately alert the athlete's trainer and designated medical personnel.</li>\n",
       "<li><strong>Requirement 5:</strong> The training and medical staff must be able to receive alerts via the CDT App, ensuring alerts are actionable and reliable.</li>\n",
       "<li><strong>Requirement 6:</strong> Data collected from the sensing device must be securely transmitted and stored, ensuring privacy and data integrity.</li>\n",
       "<li><strong>Requirement 7:</strong> The system must provide detailed hit data upon request for review by authorized personnel.</li>\n",
       "<li><strong>Requirement 8:</strong> The system should operate continuously during athletic activities, with minimal interruptions for maintenance or battery changes.</li>\n",
       "<li><strong>Requirement 9:</strong> Athletes and trainers must receive training on how to correctly use the system and understand the alerts provided.</li>\n",
       "<li><strong>Requirement 10:</strong> The system should integrate seamlessly with existing athlete health monitoring infrastructure, ensuring compatibility and expandability.</li>\n",
       "</ul>\n",
       "</body>\n",
       "</html>\n",
       "```\n",
       "\n",
       "### Explanation:\n",
       "1. **Impact Detection:** Requirements ensure that the system can effectively detect impacts and alert necessary personnel.\n",
       "2. **Data Management:** Emphasizes the need for secure data handling and storage.\n",
       "3. **Integration and Usability:** Focuses on user training and integration with existing systems to maximize effectiveness and user adoption.\n",
       "  \n",
       "These requirements establish a foundation for developing a comprehensive system to detect concussions effectively, prioritizing real-time alerts, secure data management, and integration into existing athletic infrastructure."
      ],
      "text/plain": [
       "<IPython.core.display.HTML object>"
      ]
     },
     "metadata": {},
     "output_type": "display_data"
    },
    {
     "name": "stdin",
     "output_type": "stream",
     "text": [
      "Enter your prompt (or type 'exit' to quit):  Provide and FMEA for this functional chain.\n"
     ]
    },
    {
     "data": {
      "text/markdown": [
       "**Your Prompt:**\n",
       "\n",
       "Provide and FMEA for this functional chain.\n"
      ],
      "text/plain": [
       "<IPython.core.display.Markdown object>"
      ]
     },
     "metadata": {},
     "output_type": "display_data"
    },
    {
     "data": {
      "text/html": [
       "Failure Mode and Effects Analysis (FMEA) is a systematic approach used to evaluate potential failure modes within a system and their effects. Here’s an FMEA tailored for the \"Detect Concussion\" functional chain, formatted for a Jupyter Notebook display:\n",
       "\n",
       "```html\n",
       "<!DOCTYPE html>\n",
       "\n",
       "<html lang=\"en\">\n",
       "<head>\n",
       "<meta charset=\"utf-8\"/>\n",
       "<title>FMEA for Detect Concussion Functional Chain</title>\n",
       "\n",
       "</head>\n",
       "<body>\n",
       "<h2>FMEA for \"Detect Concussion\" Functional Chain</h2>\n",
       "<table>\n",
       "<thead>\n",
       "<tr>\n",
       "<th>Function</th>\n",
       "<th>Potential Failure Mode</th>\n",
       "<th>Potential Effect(s) of Failure</th>\n",
       "<th>Potential Cause(s) of Failure</th>\n",
       "<th>Current Controls</th>\n",
       "<th>Recommended Actions</th>\n",
       "</tr>\n",
       "</thead>\n",
       "<tbody>\n",
       "<tr>\n",
       "<td>Impact Detection</td>\n",
       "<td>Failure to detect an impact</td>\n",
       "<td>Possible concussion goes undetected</td>\n",
       "<td>Sensor malfunction or improper placement</td>\n",
       "<td>Regular maintenance and testing</td>\n",
       "<td>Introduce redundant sensors; improve sensor accuracy</td>\n",
       "</tr>\n",
       "<tr>\n",
       "<td>Data Recording</td>\n",
       "<td>Loss of impact data</td>\n",
       "<td>Inability to review impact events</td>\n",
       "<td>Memory/storage failure</td>\n",
       "<td>Data validation checks</td>\n",
       "<td>Improve data redundancy and storage capacity</td>\n",
       "</tr>\n",
       "<tr>\n",
       "<td>Alert System</td>\n",
       "<td>Delayed or missed alerts</td>\n",
       "<td>Trainer/medical personnel not notified in time</td>\n",
       "<td>Communication network issues</td>\n",
       "<td>Network monitoring tools</td>\n",
       "<td>Enhance network reliability; add offline alert capabilities</td>\n",
       "</tr>\n",
       "<tr>\n",
       "<td>Data Security</td>\n",
       "<td>Unauthorized data access</td>\n",
       "<td>Privacy breach</td>\n",
       "<td>Weak encryption or authentication</td>\n",
       "<td>Encryption and access controls</td>\n",
       "<td>Regular security audits and updates</td>\n",
       "</tr>\n",
       "<tr>\n",
       "<td>User Interface</td>\n",
       "<td>Difficult to interpret alerts</td>\n",
       "<td>Slow response to potential concussion</td>\n",
       "<td>Poorly designed interface/usability</td>\n",
       "<td>User training</td>\n",
       "<td>Improve user interface design based on feedback</td>\n",
       "</tr>\n",
       "</tbody>\n",
       "</table>\n",
       "</body>\n",
       "</html>\n",
       "```\n",
       "\n",
       "### Explanation of FMEA:\n",
       "\n",
       "1. **Impact Detection:**\n",
       "   - *Failure Mode:* The system may fail to detect impacts.\n",
       "   - *Effect and Cause:* This can lead to undetected concussions, perhaps due to sensor failure or misplacement.\n",
       "   - *Current Control and Action:* Routine maintenance is vital. Proposals include installing redundant sensors for accuracy.\n",
       "\n",
       "2. **Data Recording:**\n",
       "   - *Failure Mode:* Impact data may be lost.\n",
       "   - *Effect and Cause:* This limits post-impact evaluations due to potential memory issues.\n",
       "   - *Current Control and Action:* Ensure data validation, and consider augmenting data storage options for reliability.\n",
       "\n",
       "3. **Alert System:**\n",
       "   - *Failure Mode:* Alerts might be delayed or missed.\n",
       "   - *Effect and Cause:* Essential personnel might not receive timely notifications due to network problems.\n",
       "   - *Current Control and Action:* Use network monitoring tools, and think about adding offline solutions for alerts.\n",
       "\n",
       "4. **Data Security:**\n",
       "   - *Failure Mode:* There is a risk of unauthorized data access.\n",
       "   - *Effect and Cause:* Could result in privacy breaches due to inadequate security measures.\n",
       "   - *Current Control and Action:* Use encryption and access controls, and perform regular security updates.\n",
       "\n",
       "5. **User Interface:**\n",
       "   - *Failure Mode:* Users might struggle with interpreting alerts.\n",
       "   - *Effect and Cause:* This can hinder swift concussion responses due to design flaws.\n",
       "   - *Current Control and Action:* Conduct user training, and continuously enhance the interface based on user feedback.\n",
       "\n",
       "This FMEA facilitates a structured way to enhance the reliability and safety of the \"Detect Concussion\" functional chain."
      ],
      "text/plain": [
       "<IPython.core.display.HTML object>"
      ]
     },
     "metadata": {},
     "output_type": "display_data"
    }
   ],
   "source": [
    "analyzer.interactive_chat()"
   ]
  },
  {
   "cell_type": "code",
   "execution_count": null,
   "id": "57dea895-123c-4c7f-b386-89510fcfcd9d",
   "metadata": {
    "jupyter": {
     "source_hidden": true
    }
   },
   "outputs": [],
   "source": []
  },
  {
   "cell_type": "markdown",
   "id": "8fb2484d-c283-416d-b5ae-03289fc2a8a1",
   "metadata": {},
   "source": [
    "# "
   ]
  },
  {
   "cell_type": "code",
   "execution_count": null,
   "id": "a4c59542-ddf7-4047-9007-2613a7f96589",
   "metadata": {
    "jupyter": {
     "source_hidden": true
    }
   },
   "outputs": [],
   "source": []
  }
 ],
 "metadata": {
  "kernelspec": {
   "display_name": "Python 3 (ipykernel)",
   "language": "python",
   "name": "python3"
  },
  "language_info": {
   "codemirror_mode": {
    "name": "ipython",
    "version": 3
   },
   "file_extension": ".py",
   "mimetype": "text/x-python",
   "name": "python",
   "nbconvert_exporter": "python",
   "pygments_lexer": "ipython3",
   "version": "3.11.7"
  }
 },
 "nbformat": 4,
 "nbformat_minor": 5
}
