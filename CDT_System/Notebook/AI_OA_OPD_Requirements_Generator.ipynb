{
 "cells": [
  {
   "cell_type": "markdown",
   "id": "6a2a0c94-90d9-4fe3-a2db-3ad56f8ebb2c",
   "metadata": {},
   "source": [
    "# Operational Process to Requirements CSV Generator\n",
    "\n",
    "## Overview\n",
    "\n",
    "This Jupyter Notebook facilitates the transformation of a list of operational processes into a structured input file and subsequently executes a program to generate a CSV file containing system requirements.\n",
    "\n",
    "## Workflow\n",
    "\n",
    "1. **Define Operational Processes**  \n",
    "   - The user provides a list of operational processes in a structured format (e.g., YAML or JSON).\n",
    "   \n",
    "2. **Generate a Structured Input File**  \n",
    "   - The notebook processes the input and generates a structured file suitable for requirement extraction.\n",
    "  \n",
    "   \n",
    "4. **Execute AI based requirement Extraction**  \n",
    "   - The structured file is used as input for a processing script that generates a CSV file of requirements.\n",
    "   - Extract and format a CSV file `{file_name}` of responsibile entity, requirement heading, a requirement body in the form of \"The \"entity name\"  shall \"entity action\" and \"action measurable ot obsererable\".\n",
    "   - 1. The first row should contain headers: 'responsible entity',`requirement heading' ,'requirement body `.\n",
    "     2. Each row should contain the responsible entity, requirement heading and its requirement body.\n",
    "     3. Ensure the output is enclosed within triple backticks (` ```csv `).\n",
    "     4. Sorted by responsible entity.\n",
    "     5. Return only the formatted CSV content.\n",
    "   \n",
    "4. **Output CSV File**  \n",
    "   - The extracted requirements are stored in a CSV format for further analysis.\n",
    "\n",
    "\n"
   ]
  },
  {
   "cell_type": "markdown",
   "id": "12492f24-e452-493d-97ee-3f299fd69c1c",
   "metadata": {},
   "source": [
    "### Model-Specific Code (Do Not Modify)\n",
    "\n",
    "This section contains code that is specific to the system model. It is updated only when the model is changed and should not require user modifications under normal circumstances.\n",
    "\n",
    "If a new model is introduced, ensure this section is reviewed and updated as needed."
   ]
  },
  {
   "cell_type": "code",
   "execution_count": 1,
   "id": "b7a22bfa-43ec-4d47-a95f-1f2ed483f7e6",
   "metadata": {},
   "outputs": [],
   "source": [
    "\n",
    "import jinja2\n",
    "import capellambse\n",
    "from IPython.display import Markdown\n",
    "\n",
    "from IPython.core.display import HTML\n",
    "#from IPython import display\n",
    "import pandas as pd \n",
    "import capella_agents\n",
    "\n",
    "import capellambse.decl\n",
    "resources = {\n",
    "    \"cdt_c6_1\": \"CDT_System/CDT_System\",\n",
    "    \"LORAWAN_Library\": {\"path\" : \"/home/simcenter/studio/LORAWAN_Library/LORAWAN_Library\"}\n",
    "}\n",
    "path_to_model = \"../CDT_System.aird\"\n",
    "model = capellambse.MelodyModel(path_to_model, resources=resources)\n",
    "\n",
    "model_updater = capella_agents.CapellaModelUpdater(model, debug=True)\n"
   ]
  },
  {
   "cell_type": "code",
   "execution_count": 2,
   "id": "d6a73fc0-15c9-41ed-9a44-4fc1a15b0e97",
   "metadata": {},
   "outputs": [
    {
     "name": "stdout",
     "output_type": "stream",
     "text": [
      "Processed Response: ```csv\n",
      "responsible entity,requirement heading,requirement body\n",
      "Athlete,Provide Data for Profile,The Athlete shall Provide Data for Profile and Athlete Data.\n",
      "Athlete,Recieve ID,The Athlete shall Recieve ID and ID.\n",
      "Athlete,Insert ID into Sensing Device,The Athlete shall Insert ID into Sensing Device and ID.\n",
      "Athlete,Place on Helmut,The Athlete shall Place on Helmut and Ready to put on Helmut.\n",
      "Athlete,Athlete Particpates in Activity,The Athlete shall Athlete Particpates in Activity and Activity.\n",
      "Athlete,Yield to Evaluation,The Athlete shall Yield to Evaluation and Alert.\n",
      "Athlete,Report Received,The Athlete shall Report Received and Athlete Report.\n",
      "Helmet,Provide access to sensing device mounting,The Helmet shall Provide access to sensing device mounting and sensor mounting.\n",
      "Helmet,Receive Athlete,The Helmet shall Receive Athlete and Head.\n",
      "Helmet,Helmet Receives a Hit,The Helmet shall Helmet Receives a Hit and Activity.\n",
      "ID Device,Create Unique IDs for Athlete,The ID Device shall Create Unique IDs for Athlete and ID.\n",
      "ID Device,Provide ID Information,The ID Device shall Provide ID Information and Device ID.\n",
      "ID Device,Device,The ID Device shall Device and .\n",
      "Instituion,Aquire System,The Instituion shall Aquire System and System.\n",
      "Instituion,Report Received,The Instituion shall Report Received and Instition Report.\n",
      "Instituion,Established Concussion Policy,The Instituion shall Established Concussion Policy and System.\n",
      "Secure Cloud,Store Profile,The Secure Cloud shall Store Profile and Athlete Profile.\n",
      "Secure Cloud,Data stored,The Secure Cloud shall Data stored and Recorded Data.\n",
      "Secure Cloud,Generates Reports,The Secure Cloud shall Generates Reports and Execute Policy.\n",
      "Sensing Device,Provide access to helmet mounting,The Sensing Device shall Provide access to helmet mounting and helmet mounting.\n",
      "Sensing Device,Recieve ID,The Sensing Device shall Recieve ID and ID.\n",
      "Sensing Device,Enable Secure Collection,The Sensing Device shall Enable Secure Collection and Athlete ID.\n",
      "Sensing Device,Enable Monitoring,The Sensing Device shall Enable Monitoring and Sensor Ready.\n",
      "Sensing Device,Data is Retrieved,The Sensing Device shall Data is Retrieved and Evaluation.\n",
      "Sensing Device,Device records Hit,The Sensing Device shall Device records Hit and Hit.\n",
      "Sensing Device,Device alerts possible Concussion,The Sensing Device shall Device alerts possible Concussion and Concussion.\n",
      "Trainer,Create profiles for Athletes,The Trainer shall Create profiles for Athletes and System.\n",
      "Trainer,Create Unique IDs,The Trainer shall Create Unique IDs and Profile Data.\n",
      "Trainer,Provide ID to Athlete,The Trainer shall Provide ID to Athlete and ID Device.\n",
      "Trainer,Assemble System Components,The Trainer shall Assemble System Components and System.\n",
      "Trainer,Prep the device for use,The Trainer shall Prep the device for use and Assembled System.\n",
      "Trainer,Recieve Enabled Signal from Athelete Helmut,The Trainer shall Recieve Enabled Signal from Athelete Helmut and Enable Signal.\n",
      "Trainer,Trainer Recieves Concussion Alert,The Trainer shall Trainer Recieves Concussion Alert and Concussion Policy.\n",
      "Trainer,Data can be reviewed,The Trainer shall Data can be reviewed and Stored Data.\n",
      "Trainer,Executes Policies,The Trainer shall Executes Policies and Interaction 26.\n",
      "```\n",
      "✅ CSV file 'requirements.csv' has been created successfully.\n"
     ]
    },
    {
     "data": {
      "text/plain": [
       "'```csv\\nresponsible entity,requirement heading,requirement body\\nAthlete,Provide Data for Profile,The Athlete shall Provide Data for Profile and Athlete Data.\\nAthlete,Recieve ID,The Athlete shall Recieve ID and ID.\\nAthlete,Insert ID into Sensing Device,The Athlete shall Insert ID into Sensing Device and ID.\\nAthlete,Place on Helmut,The Athlete shall Place on Helmut and Ready to put on Helmut.\\nAthlete,Athlete Particpates in Activity,The Athlete shall Athlete Particpates in Activity and Activity.\\nAthlete,Yield to Evaluation,The Athlete shall Yield to Evaluation and Alert.\\nAthlete,Report Received,The Athlete shall Report Received and Athlete Report.\\nHelmet,Provide access to sensing device mounting,The Helmet shall Provide access to sensing device mounting and sensor mounting.\\nHelmet,Receive Athlete,The Helmet shall Receive Athlete and Head.\\nHelmet,Helmet Receives a Hit,The Helmet shall Helmet Receives a Hit and Activity.\\nID Device,Create Unique IDs for Athlete,The ID Device shall Create Unique IDs for Athlete and ID.\\nID Device,Provide ID Information,The ID Device shall Provide ID Information and Device ID.\\nID Device,Device,The ID Device shall Device and .\\nInstituion,Aquire System,The Instituion shall Aquire System and System.\\nInstituion,Report Received,The Instituion shall Report Received and Instition Report.\\nInstituion,Established Concussion Policy,The Instituion shall Established Concussion Policy and System.\\nSecure Cloud,Store Profile,The Secure Cloud shall Store Profile and Athlete Profile.\\nSecure Cloud,Data stored,The Secure Cloud shall Data stored and Recorded Data.\\nSecure Cloud,Generates Reports,The Secure Cloud shall Generates Reports and Execute Policy.\\nSensing Device,Provide access to helmet mounting,The Sensing Device shall Provide access to helmet mounting and helmet mounting.\\nSensing Device,Recieve ID,The Sensing Device shall Recieve ID and ID.\\nSensing Device,Enable Secure Collection,The Sensing Device shall Enable Secure Collection and Athlete ID.\\nSensing Device,Enable Monitoring,The Sensing Device shall Enable Monitoring and Sensor Ready.\\nSensing Device,Data is Retrieved,The Sensing Device shall Data is Retrieved and Evaluation.\\nSensing Device,Device records Hit,The Sensing Device shall Device records Hit and Hit.\\nSensing Device,Device alerts possible Concussion,The Sensing Device shall Device alerts possible Concussion and Concussion.\\nTrainer,Create profiles for Athletes,The Trainer shall Create profiles for Athletes and System.\\nTrainer,Create Unique IDs,The Trainer shall Create Unique IDs and Profile Data.\\nTrainer,Provide ID to Athlete,The Trainer shall Provide ID to Athlete and ID Device.\\nTrainer,Assemble System Components,The Trainer shall Assemble System Components and System.\\nTrainer,Prep the device for use,The Trainer shall Prep the device for use and Assembled System.\\nTrainer,Recieve Enabled Signal from Athelete Helmut,The Trainer shall Recieve Enabled Signal from Athelete Helmut and Enable Signal.\\nTrainer,Trainer Recieves Concussion Alert,The Trainer shall Trainer Recieves Concussion Alert and Concussion Policy.\\nTrainer,Data can be reviewed,The Trainer shall Data can be reviewed and Stored Data.\\nTrainer,Executes Policies,The Trainer shall Executes Policies and Interaction 26.\\n```'"
      ]
     },
     "execution_count": 2,
     "metadata": {},
     "output_type": "execute_result"
    }
   ],
   "source": [
    "\n",
    "import capellambse_yaml_manager\n",
    "yaml_handler = capellambse_yaml_manager.CapellaYAMLHandler()\n",
    "  \n",
    "#Generate YAML for the logical component and append to the file\n",
    "\n",
    "for object in  model.oa.all_operational_processes :  \n",
    "    yaml_handler.generate_yaml( object)\n",
    "\n",
    "#yaml_handler.display()\n",
    "yaml_handler.generate_yaml_referenced_objects()\n",
    "#yaml_handler.display()\n",
    "\n",
    "yaml_handler.write_output_file()\n",
    "file_name = \"requirements.csv\"\n",
    "yaml_content =  yaml_handler.get_yaml_content()\n",
    "prompt = f\"\"\"\n",
    "The following is a YAML representation of operational processes:\n",
    "---\n",
    "{yaml_content}\n",
    "---\n",
    "Extract and format a CSV file `{file_name}` of responsibile entity, requirement heading, a requirement body in the form of \"The \"entity name\"  shall \"entity action\" and \"action measurable ot obsererable\". \n",
    "\n",
    "### CSV Formatting Instructions:\n",
    "1. The first row should contain headers: 'responsible entity',`requirement heading' ,'requirement body `.\n",
    "2. Each row should contain the responsible entity, requirement heading and its requirement body.\n",
    "3. Ensure the output is enclosed within triple backticks (` ```csv `).\n",
    "4. Sorted by responsible entity.\n",
    "\n",
    "Return only the formatted CSV content.\n",
    "\"\"\"\n",
    "model_updater.generate_file(yaml_content, prompt,file_name).content\n"
   ]
  },
  {
   "cell_type": "code",
   "execution_count": null,
   "id": "04ff38b6-9c7b-4883-a6ca-a4b6304d418f",
   "metadata": {},
   "outputs": [],
   "source": []
  },
  {
   "cell_type": "code",
   "execution_count": null,
   "id": "b72f9040-504e-478e-a052-0cea94d5363a",
   "metadata": {},
   "outputs": [],
   "source": []
  }
 ],
 "metadata": {
  "kernelspec": {
   "display_name": "Python 3 (ipykernel)",
   "language": "python",
   "name": "python3"
  },
  "language_info": {
   "codemirror_mode": {
    "name": "ipython",
    "version": 3
   },
   "file_extension": ".py",
   "mimetype": "text/x-python",
   "name": "python",
   "nbconvert_exporter": "python",
   "pygments_lexer": "ipython3",
   "version": "3.11.7"
  }
 },
 "nbformat": 4,
 "nbformat_minor": 5
}
